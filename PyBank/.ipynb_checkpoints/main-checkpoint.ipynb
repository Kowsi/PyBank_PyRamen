{
 "cells": [
  {
   "cell_type": "code",
   "execution_count": 1,
   "metadata": {},
   "outputs": [
    {
     "name": "stdout",
     "output_type": "stream",
     "text": [
      "Financial Analysis\n",
      "----------------------------\n",
      "Total Months: 86\n",
      "Total: $38382578\n",
      "Average  Change: $-2315.12\n",
      "Greatest Increase in Profits: Feb-2012 ($1926159)\n",
      "Greatest Decrease in Profits: Sep-2013 ($-2196167)\n",
      "\n"
     ]
    }
   ],
   "source": [
    "\"\"\"\n",
    "\n",
    "This script for analyzing the financial records of your company\n",
    "\n",
    "\"\"\"\n",
    "\n",
    "# importing csv module \n",
    "import csv \n",
    "  \n",
    "# csv file name \n",
    "filename = \"data/budget_data.csv\"\n",
    "\n",
    "# initializing the titles and rows list \n",
    "header = []\n",
    "data = []\n",
    "\n",
    "# initializing the data\n",
    "total_months = 0\n",
    "net_total_amount = 0\n",
    "changes_in_PL = []\n",
    "greatest_profit = 0\n",
    "greatest_loss = 0\n",
    "\n",
    "# reading csv file \n",
    "with open(filename, 'r') as csvfile:\n",
    "    \n",
    "    # creating a csv reader object \n",
    "    csvreader = csv.reader(csvfile) \n",
    "    \n",
    "    # extracting header names through first row \n",
    "    header = next(csvreader) \n",
    "\n",
    "    # extracting each data row one by one \n",
    "    for row in csvreader: \n",
    "        amount = int(row[1])\n",
    "\n",
    "        #Calculating the changes in profit \n",
    "        if data!=[]:\n",
    "           changes_in_PL.append(amount-data[-1][1])\n",
    "        \n",
    "        data.append([row[0], amount])\n",
    "        \n",
    "        #calculating the net total amount of Profit/Losses over the entire period\n",
    "        net_total_amount += amount\n",
    "    \n",
    "    # total number of months included in the dataset\n",
    "    total_month = len(data)\n",
    "    \n",
    "\n",
    "#The average of the changes in Profit/Losses over the entire period\n",
    "average_of_changes_PL = round(sum(changes_in_PL)/len(changes_in_PL), 2)\n",
    "\n",
    "#The greatest increase in profits (date and amount) over the entire period\n",
    "greatest_profit = max(changes_in_PL)\n",
    "greatest_profit_month = data[changes_in_PL.index(greatest_profit)+1][0]\n",
    "\n",
    "#The greatest decrease in losses (date and amount) over the entire period.\n",
    "greatest_loss = min(changes_in_PL)\n",
    "greatest_loss_month = data[changes_in_PL.index(greatest_loss)+1][0]\n",
    "\n",
    "\n",
    "output = 'Financial Analysis\\n'\n",
    "output += '----------------------------\\n'\n",
    "output += f'Total Months: {total_month}\\n'\n",
    "output += f'Total: ${net_total_amount}\\n'\n",
    "output += f'Average  Change: ${average_of_changes_PL}\\n'\n",
    "output += f'Greatest Increase in Profits: {greatest_profit_month} (${greatest_profit})\\n'\n",
    "output += f'Greatest Decrease in Profits: {greatest_loss_month} (${greatest_loss})\\n'\n",
    "\n",
    "print(output)\n",
    "with open('out.txt', 'w') as f:\n",
    "    print(output, file=f)\n",
    "\n"
   ]
  },
  {
   "cell_type": "code",
   "execution_count": null,
   "metadata": {},
   "outputs": [],
   "source": []
  }
 ],
 "metadata": {
  "kernelspec": {
   "display_name": "Python 3",
   "language": "python",
   "name": "python3"
  },
  "language_info": {
   "codemirror_mode": {
    "name": "ipython",
    "version": 3
   },
   "file_extension": ".py",
   "mimetype": "text/x-python",
   "name": "python",
   "nbconvert_exporter": "python",
   "pygments_lexer": "ipython3",
   "version": "3.7.6"
  }
 },
 "nbformat": 4,
 "nbformat_minor": 4
}
